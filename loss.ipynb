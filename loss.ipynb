{
 "cells": [
  {
   "cell_type": "code",
   "execution_count": null,
   "id": "c0e1b84a-0ab8-4713-8ee7-7330f2a12e18",
   "metadata": {},
   "outputs": [],
   "source": [
    "#loss\n",
    "import numpy as np\n",
    "\n",
    "def softmax(x):\n",
    "    max_x = np.max(x,axis=1).reshape(-1,1)\n",
    "    x = np.exp(x-max_x) / np.sum(np.exp(x-max_x), axis = 1, keepdims = True)\n",
    "    return x\n",
    "\n",
    "def CrossEntropyLoss(y_hat,y):\n",
    "    y_hat = softmax(y_hat)\n",
    "    l = 0\n",
    "    for i,j in enumerate(y):\n",
    "        l += -np.log(y_hat[i,j]+1e-05)\n",
    "    return l/len(y)"
   ]
  }
 ],
 "metadata": {
  "kernelspec": {
   "display_name": "Python 3 (ipykernel)",
   "language": "python",
   "name": "python3"
  },
  "language_info": {
   "codemirror_mode": {
    "name": "ipython",
    "version": 3
   },
   "file_extension": ".py",
   "mimetype": "text/x-python",
   "name": "python",
   "nbconvert_exporter": "python",
   "pygments_lexer": "ipython3",
   "version": "3.10.4"
  }
 },
 "nbformat": 4,
 "nbformat_minor": 5
}
