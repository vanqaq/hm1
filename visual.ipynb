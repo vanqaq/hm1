{
 "cells": [
  {
   "cell_type": "code",
   "execution_count": null,
   "id": "ae29a1ec-353f-4a71-8652-1fd088fe459d",
   "metadata": {},
   "outputs": [],
   "source": [
    "import matplotlib.pyplot as plt\n",
    "from PIL import Image\n",
    "\n",
    "param = np.load(r'C:\\Users\\13693\\Desktop\\mlnn\\hm1\\param.npy', allow_pickle=True)\n",
    "\n",
    "def img_plot(param,shape,filename,ncol):\n",
    "    c = param.shape[1]\n",
    "    nrow = int(c/ncol)+1\n",
    "    plt.figure(dpi=100)\n",
    "    for i in range(c):\n",
    "        img = param[:,i]\n",
    "        img = img.reshape(*shape)\n",
    "        img = (img-np.min(img))/(np.max(img)-np.min(img))*255\n",
    "        img = Image.fromarray(np.uint8(img))\n",
    "        plt.subplot(nrow, ncol, i+1)\n",
    "        plt.imshow(img, cmap='gray')\n",
    "        plt.xticks([])\n",
    "        plt.yticks([])\n",
    "    #plt.subplots_adjust(wspace=0., hspace=0.)\n",
    "    plt.savefig(filename)\n",
    "\n",
    "img_plot(param[0][:,:30],(28,28),r'C:\\Users\\13693\\Desktop\\mlnn\\hm1\\weight1.jpg',5)\n",
    "img_plot(param[2],(16,32),r'C:\\Users\\13693\\Desktop\\mlnn\\hm1\\weight2.jpg',5)"
   ]
  }
 ],
 "metadata": {
  "kernelspec": {
   "display_name": "Python 3 (ipykernel)",
   "language": "python",
   "name": "python3"
  },
  "language_info": {
   "codemirror_mode": {
    "name": "ipython",
    "version": 3
   },
   "file_extension": ".py",
   "mimetype": "text/x-python",
   "name": "python",
   "nbconvert_exporter": "python",
   "pygments_lexer": "ipython3",
   "version": "3.10.4"
  }
 },
 "nbformat": 4,
 "nbformat_minor": 5
}
