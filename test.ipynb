{
 "cells": [
  {
   "cell_type": "code",
   "execution_count": null,
   "id": "ae29a1ec-353f-4a71-8652-1fd088fe459d",
   "metadata": {},
   "outputs": [],
   "source": [
    "import numpy as np\n",
    "from mlxtend.data import loadlocal_mnist\n",
    "from Mydataloader import MydataLoader\n",
    "from model import twolayers_mlp \n",
    "\n",
    "X_test, y_test = loadlocal_mnist(\n",
    "            images_path=r'C:\\Users\\13693\\Desktop\\mlnn\\hm1\\t10k-images-idx3-ubyte', \n",
    "            labels_path=r'C:\\Users\\13693\\Desktop\\mlnn\\hm1\\t10k-labels-idx1-ubyte')\n",
    "            \n",
    "def normalize(x):\n",
    "    m = np.mean(x,axis=0,keepdims=True)\n",
    "    var = np.var(x,axis=0,keepdims=True)\n",
    "    return (x-m)/np.sqrt(var+1e-05)\n",
    "x_test = normalize(x_test)\n",
    "\n",
    "input_size = 28*28\n",
    "hidden_size = 256\n",
    "output_size = 10\n",
    "batch_size = 32\n",
    "\n",
    "test_iter = MydataLoader(x_test,y_test,batch_size) \n",
    "network = twolayers_mlp(input_size,hidden_size,output_size,lr = 0,l2 = 0)\n",
    "param = np.load(r'C:\\Users\\13693\\Desktop\\mlnn\\hm1\\param.npy', allow_pickle=True)\n",
    "network.load_state_dict(param)\n",
    "\n",
    "accuracy = 0\n",
    "for x,y in test_iter:\n",
    "    x = np.asarray(x)\n",
    "    y = np.asarray(y)\n",
    "    y_hat = network(x)\n",
    "    accuracy += (np.argmax(y_hat,axis=1)==y).sum()\n",
    "print('accuracy:',accuracy/len(test_iter))"
   ]
  }
 ],
 "metadata": {
  "kernelspec": {
   "display_name": "Python 3 (ipykernel)",
   "language": "python",
   "name": "python3"
  },
  "language_info": {
   "codemirror_mode": {
    "name": "ipython",
    "version": 3
   },
   "file_extension": ".py",
   "mimetype": "text/x-python",
   "name": "python",
   "nbconvert_exporter": "python",
   "pygments_lexer": "ipython3",
   "version": "3.10.4"
  }
 },
 "nbformat": 4,
 "nbformat_minor": 5
}
